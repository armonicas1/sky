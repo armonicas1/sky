{
  "nbformat": 4,
  "nbformat_minor": 0,
  "metadata": {
    "colab": {
      "name": "demo_streamlitColab.ipynb",
      "provenance": [],
      "collapsed_sections": []
    },
    "kernelspec": {
      "display_name": "Python 3",
      "name": "python3"
    }
  },
  "cells": [
    {
      "cell_type": "markdown",
      "metadata": {
        "id": "vWmc_s2ezvU0"
      },
      "source": [
        "# **PROJET NEBULA - Demo Streamlit**"
      ]
    },
    {
      "cell_type": "markdown",
      "metadata": {
        "id": "xZMtoqVt8hzh"
      },
      "source": [
        "La démo Streamlit est accessible en ligne, via le lien indiqué dans la description du repo Github. Néanmoins, pour ceux qui le souhaitent ou dans le cas où la démo serait inaccessible, il est possible de la lancer via ce notebook depuis Google Colab.\n",
        "\n",
        "Le principe est d'initier un tunnel via le service Ngrok afin de rendre publique l'adresse du serveur instancié par streamlit. Pour éviter d'atteindre les quotas de soumission auprès de Ngrok, il faut au préalable s'inscrire sur le site https://ngrok.com/ afin d'y récupérer un token. Ce dernier sera nécessaire plus loin dans ce notebook.\n"
      ]
    },
    {
      "cell_type": "markdown",
      "metadata": {
        "id": "Doh1Nrjpz9ua"
      },
      "source": [
        "## **1. Installations**"
      ]
    },
    {
      "cell_type": "markdown",
      "metadata": {
        "id": "1aViQX800ht7"
      },
      "source": [
        "### 1.1. Installation de Streamlit"
      ]
    },
    {
      "cell_type": "markdown",
      "metadata": {
        "id": "RBr5L5gnvCLY"
      },
      "source": [
        "Il faut d'abord installer Streamlit en exécutant le code ci-dessous. Il est possible qu'une erreur de version apparaisse, sans conséquence pour la bonne exécution de l'application.<br>\n",
        "Apres avoir exécuté la cellule ci-dessous il faut surtout penser à redémarrer l'environnement d'exécution via le menu !\n"
      ]
    },
    {
      "cell_type": "code",
      "metadata": {
        "colab": {
          "base_uri": "https://localhost:8080/"
        },
        "id": "4pX82dyHr8XL",
        "outputId": "97dbd252-da51-4c79-aa93-bd6280e9bba9"
      },
      "source": [
        "!pip install -q streamlit"
      ],
      "execution_count": null,
      "outputs": [
        {
          "output_type": "stream",
          "text": [
            "\u001b[K     |████████████████████████████████| 7.8MB 27.6MB/s \n",
            "\u001b[K     |████████████████████████████████| 112kB 44.9MB/s \n",
            "\u001b[K     |████████████████████████████████| 174kB 44.8MB/s \n",
            "\u001b[K     |████████████████████████████████| 4.2MB 20.1MB/s \n",
            "\u001b[K     |████████████████████████████████| 81kB 8.9MB/s \n",
            "\u001b[K     |████████████████████████████████| 71kB 9.4MB/s \n",
            "\u001b[K     |████████████████████████████████| 122kB 43.4MB/s \n",
            "\u001b[K     |████████████████████████████████| 788kB 29.7MB/s \n",
            "\u001b[K     |████████████████████████████████| 368kB 40.2MB/s \n",
            "\u001b[?25h  Building wheel for blinker (setup.py) ... \u001b[?25l\u001b[?25hdone\n",
            "\u001b[31mERROR: jupyter-console 5.2.0 has requirement prompt-toolkit<2.0.0,>=1.0.0, but you'll have prompt-toolkit 3.0.19 which is incompatible.\u001b[0m\n",
            "\u001b[31mERROR: google-colab 1.0.0 has requirement ipykernel~=4.10, but you'll have ipykernel 6.0.1 which is incompatible.\u001b[0m\n",
            "\u001b[31mERROR: google-colab 1.0.0 has requirement ipython~=5.5.0, but you'll have ipython 7.25.0 which is incompatible.\u001b[0m\n"
          ],
          "name": "stdout"
        }
      ]
    },
    {
      "cell_type": "markdown",
      "metadata": {
        "id": "uzvl_5Cv8HeX"
      },
      "source": [
        "## **<font color='red'>Ici on pense a redémarrer l'environnement.</font>**"
      ]
    },
    {
      "cell_type": "markdown",
      "metadata": {
        "id": "EFoluk860syY"
      },
      "source": [
        "### 1.2. Installation de NGRok"
      ]
    },
    {
      "cell_type": "markdown",
      "metadata": {
        "id": "G7RXzfxe0xRe"
      },
      "source": [
        "NGrok va nous permettre de créer un tunnel nous permettant de visualiser l'application dans un navigateur internet. Il faut exécuter les cellules suivantes pour télédécharger les sources du noyau sous Colab."
      ]
    },
    {
      "cell_type": "code",
      "metadata": {
        "colab": {
          "base_uri": "https://localhost:8080/"
        },
        "id": "0R8CWKpKD3HX",
        "outputId": "e2531706-373c-478c-ebe0-77eb230dcbf1"
      },
      "source": [
        "!pip install pyngrok==4.1.1"
      ],
      "execution_count": null,
      "outputs": [
        {
          "output_type": "stream",
          "text": [
            "Collecting pyngrok==4.1.1\n",
            "  Downloading https://files.pythonhosted.org/packages/e4/a9/de2e15c92eb3aa4a2646ce3a7542317eb69ac47f667578ce8bf916320847/pyngrok-4.1.1.tar.gz\n",
            "Requirement already satisfied: future in /usr/local/lib/python3.7/dist-packages (from pyngrok==4.1.1) (0.16.0)\n",
            "Requirement already satisfied: PyYAML in /usr/local/lib/python3.7/dist-packages (from pyngrok==4.1.1) (3.13)\n",
            "Building wheels for collected packages: pyngrok\n",
            "  Building wheel for pyngrok (setup.py) ... \u001b[?25l\u001b[?25hdone\n",
            "  Created wheel for pyngrok: filename=pyngrok-4.1.1-cp37-none-any.whl size=15985 sha256=d2a1b72848612fef535f331deabe284ab98dfc43db86252976b4f7c82bfe0cb6\n",
            "  Stored in directory: /root/.cache/pip/wheels/97/71/0d/1695f7c8815c0beb3b5d9b35d6eec9243c87e6070fbe3977fa\n",
            "Successfully built pyngrok\n",
            "Installing collected packages: pyngrok\n",
            "Successfully installed pyngrok-4.1.1\n"
          ],
          "name": "stdout"
        }
      ]
    },
    {
      "cell_type": "code",
      "metadata": {
        "colab": {
          "base_uri": "https://localhost:8080/"
        },
        "id": "VSPUMEHYwqng",
        "outputId": "47d452a3-bc9c-4752-f5cd-4f38040c0510"
      },
      "source": [
        "!wget https://bin.equinox.io/c/4VmDzA7iaHb/ngrok-stable-linux-amd64.zip"
      ],
      "execution_count": null,
      "outputs": [
        {
          "output_type": "stream",
          "text": [
            "--2021-07-06 03:19:54--  https://bin.equinox.io/c/4VmDzA7iaHb/ngrok-stable-linux-amd64.zip\n",
            "Resolving bin.equinox.io (bin.equinox.io)... 3.227.65.201, 34.195.15.150, 35.175.167.123, ...\n",
            "Connecting to bin.equinox.io (bin.equinox.io)|3.227.65.201|:443... connected.\n",
            "HTTP request sent, awaiting response... 200 OK\n",
            "Length: 13832437 (13M) [application/octet-stream]\n",
            "Saving to: ‘ngrok-stable-linux-amd64.zip’\n",
            "\n",
            "ngrok-stable-linux- 100%[===================>]  13.19M  36.0MB/s    in 0.4s    \n",
            "\n",
            "2021-07-06 03:19:54 (36.0 MB/s) - ‘ngrok-stable-linux-amd64.zip’ saved [13832437/13832437]\n",
            "\n"
          ],
          "name": "stdout"
        }
      ]
    },
    {
      "cell_type": "code",
      "metadata": {
        "colab": {
          "base_uri": "https://localhost:8080/"
        },
        "id": "6679q_6fwsJH",
        "outputId": "33937052-542b-46a8-d7a3-502ac8e5d352"
      },
      "source": [
        "!unzip ngrok-stable-linux-amd64.zip"
      ],
      "execution_count": null,
      "outputs": [
        {
          "output_type": "stream",
          "text": [
            "Archive:  ngrok-stable-linux-amd64.zip\n",
            "  inflating: ngrok                   \n"
          ],
          "name": "stdout"
        }
      ]
    },
    {
      "cell_type": "markdown",
      "metadata": {
        "id": "BZr6fBuDAPb-"
      },
      "source": [
        "### 1.3. Chargement des packages et de l'application streamlit"
      ]
    },
    {
      "cell_type": "markdown",
      "metadata": {
        "id": "86JqdYaZ94Vu"
      },
      "source": [
        "L'application Streamlit est déjà déployée dans le repository Github associé au projet. Les instructions ci-dessous vont télédécharger les sources de l'application d'une part, et des packages nécessaires d'autre part."
      ]
    },
    {
      "cell_type": "code",
      "metadata": {
        "colab": {
          "base_uri": "https://localhost:8080/"
        },
        "id": "PI2yZH-gASpp",
        "outputId": "0a65b527-fada-4a0a-d6a3-abe7e5ef47ba"
      },
      "source": [
        "# Création de répertoires pour stocker le Git, les librairies et checkpoints\n",
        "!mkdir nebulaTemp -p\n",
        "!mkdir packages -p\n",
        "!mkdir streamlit -p\n",
        "\n",
        "# Copie des sources des librairies projet depuis le Github\n",
        "!git clone https://github.com/DataScientest/nebula/ ./nebulaTemp --dissociate > /dev/null\n",
        "\n",
        "# Répartition des différentes ressources dans les répertoires\n",
        "!cp ./nebulaTemp/packages/* ./packages\n",
        "!cp -R ./nebulaTemp/streamlit/* ./streamlit\n",
        "!cp -R ./nebulaTemp/streamlit/.streamlit .       \n",
        "\n",
        "# Suppression de la copie du repository source\n",
        "!rm nebulaTemp -r"
      ],
      "execution_count": null,
      "outputs": [
        {
          "output_type": "stream",
          "text": [
            "Cloning into './nebulaTemp'...\n",
            "remote: Enumerating objects: 370, done.\u001b[K\n",
            "remote: Counting objects: 100% (297/297), done.\u001b[K\n",
            "remote: Compressing objects: 100% (194/194), done.\u001b[K\n",
            "remote: Total 370 (delta 148), reused 217 (delta 99), pack-reused 73\u001b[K\n",
            "Receiving objects: 100% (370/370), 36.36 MiB | 31.03 MiB/s, done.\n",
            "Resolving deltas: 100% (173/173), done.\n"
          ],
          "name": "stdout"
        }
      ]
    },
    {
      "cell_type": "markdown",
      "metadata": {
        "id": "14fstGETAZT9"
      },
      "source": [
        "### 1.4. Installation des dépendances"
      ]
    },
    {
      "cell_type": "markdown",
      "metadata": {
        "id": "t_wTJJC5-T1J"
      },
      "source": [
        "Quelques librairies sont nécessaires au bon fonctionnement de l'application. Nous les installons toutes depuis le fichier de configuration rattaché a l’application.  Il est possible qu'une erreur de version apparaisse, sans conséquence pour la bonne exécution de l'application."
      ]
    },
    {
      "cell_type": "code",
      "metadata": {
        "colab": {
          "base_uri": "https://localhost:8080/"
        },
        "id": "_V0R4yqvmiYS",
        "outputId": "1b5c679a-ec5e-47df-8000-8ced092e2d55"
      },
      "source": [
        "!pip install -r streamlit/requirements.txt  > /dev/null"
      ],
      "execution_count": null,
      "outputs": [
        {
          "output_type": "stream",
          "text": [
            "\u001b[31mERROR: panel 0.11.3 has requirement bokeh<2.4.0,>=2.3.0, but you'll have bokeh 2.2.2 which is incompatible.\u001b[0m\n"
          ],
          "name": "stdout"
        }
      ]
    },
    {
      "cell_type": "markdown",
      "metadata": {
        "id": "encqGJ4u0FYG"
      },
      "source": [
        "## **2. Lancement de l'application**"
      ]
    },
    {
      "cell_type": "markdown",
      "metadata": {
        "id": "JExKU0Gvn72U"
      },
      "source": [
        "Les installations étant terminées, l'application peut être lancée. Nous allons pour cela initier un tunnel ngrok.\n",
        "\n",
        "Au préalable, il convient de générer un fichier de configuration comportant un token de connexion. Rendez-vous sur le site ngrok.com, inscrivez-vous si ce n'est déjà fait et récupérez votre token (présent sur la page de votre profil). Remplacer ensuite la ligne ci-dessous par votre propre token avant de l'exécuter.\n"
      ]
    },
    {
      "cell_type": "code",
      "metadata": {
        "colab": {
          "base_uri": "https://localhost:8080/"
        },
        "id": "vnkvhNBp9jf1",
        "outputId": "2f783bde-854f-4a7c-f655-bc42caef1a57"
      },
      "source": [
        "!ngrok authtoken 1ySB..."
      ],
      "execution_count": null,
      "outputs": [
        {
          "output_type": "stream",
          "text": [
            "Authtoken saved to configuration file: /root/.ngrok2/ngrok.yml\n"
          ],
          "name": "stdout"
        }
      ]
    },
    {
      "cell_type": "markdown",
      "metadata": {
        "id": "MNHYv8wj1Zzr"
      },
      "source": [
        "Lancez les 3 cellules ci-dessous, un nouveau tunnel sera alors généré. Pour visualiser le rendu de l'application il faut se rendre sur le lien indiqué par la seconde cellule (de type https://xxxxxxx.ngrok.io)"
      ]
    },
    {
      "cell_type": "code",
      "metadata": {
        "id": "qGCM2OjvxNit"
      },
      "source": [
        "get_ipython().system_raw('./ngrok http 8501 &')"
      ],
      "execution_count": null,
      "outputs": []
    },
    {
      "cell_type": "code",
      "metadata": {
        "colab": {
          "base_uri": "https://localhost:8080/"
        },
        "id": "bxwv00hdxedU",
        "outputId": "b978c194-1481-4cc6-8295-ccdd7ea444a3"
      },
      "source": [
        "!curl -s http://localhost:4040/api/tunnels | python3 -c \\\n",
        "    'import sys, json; print(\"URL pour visualiser l application : \" +json.load(sys.stdin)[\"tunnels\"][0][\"public_url\"])'"
      ],
      "execution_count": null,
      "outputs": [
        {
          "output_type": "stream",
          "text": [
            "URL pour visualiser l application : https://36f7250b652c.ngrok.io\n"
          ],
          "name": "stdout"
        }
      ]
    },
    {
      "cell_type": "code",
      "metadata": {
        "colab": {
          "base_uri": "https://localhost:8080/"
        },
        "id": "T1bWdX1Y_n9j",
        "outputId": "8c70d473-e86b-41a2-a6eb-93377d0db419"
      },
      "source": [
        "!streamlit run /content/streamlit/index.py"
      ],
      "execution_count": null,
      "outputs": [
        {
          "output_type": "stream",
          "text": [
            "\u001b[0m\n",
            "\u001b[34m\u001b[1m  You can now view your Streamlit app in your browser.\u001b[0m\n",
            "\u001b[0m\n",
            "\u001b[34m  Network URL: \u001b[0m\u001b[1mhttp://172.28.0.2:8501\u001b[0m\n",
            "\u001b[34m  External URL: \u001b[0m\u001b[1mhttp://35.245.67.62:8501\u001b[0m\n",
            "\u001b[0m\n",
            "2021-07-06 03:30:48.891980: I tensorflow/stream_executor/platform/default/dso_loader.cc:53] Successfully opened dynamic library libcudart.so.11.0\n",
            "Segmentation Models: using `keras` framework.\n",
            "\u001b[34m  Stopping...\u001b[0m\n"
          ],
          "name": "stdout"
        }
      ]
    }
  ]
}