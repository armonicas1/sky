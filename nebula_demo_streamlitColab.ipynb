{
  "cells": [
    {
      "cell_type": "code",
      "execution_count": 15,
      "metadata": {},
      "outputs": [],
      "source": [
        "#!pip install gdown\n",
        "#!pip install opencv-python\n",
        "#!conda install streamlit\\requirements.txt\n",
        "import tensorflow as tf"
      ]
    },
    {
      "cell_type": "code",
      "execution_count": 14,
      "metadata": {},
      "outputs": [
        {
          "name": "stdout",
          "output_type": "stream",
          "text": [
            "absl-py @ file:///C:/b/abs_d3cv5rzljl/croot/absl-py_1686852506854/work\n",
            "aiofiles @ file:///C:/b/abs_9ex6mi6b56/croot/aiofiles_1683773603390/work\n",
            "aiohttp @ file:///C:/b/abs_c4zmy2l696/croot/aiohttp_1670009573673/work\n",
            "aiosignal @ file:///tmp/build/80754af9/aiosignal_1637843061372/work\n",
            "aiosqlite @ file:///C:/b/abs_9djc_0pyi3/croot/aiosqlite_1683773915844/work\n",
            "alabaster @ file:///home/ktietz/src/ci/alabaster_1611921544520/work\n",
            "altair==4.2.2\n",
            "analytics-python==1.4.0\n",
            "anyio @ file:///C:/ci/anyio_1644481921011/work/dist\n",
            "appdirs==1.4.4\n",
            "argon2-cffi @ file:///opt/conda/conda-bld/argon2-cffi_1645000214183/work\n",
            "argon2-cffi-bindings @ file:///C:/ci/argon2-cffi-bindings_1644551690056/work\n",
            "arrow==1.2.3\n",
            "astroid @ file:///C:/b/abs_d4lg3_taxn/croot/astroid_1676904351456/work\n",
            "asttokens @ file:///opt/conda/conda-bld/asttokens_1646925590279/work\n",
            "astunparse==1.6.3\n",
            "async-timeout @ file:///C:/b/abs_43ozhz2a8g/croots/recipe/async-timeout_1664876362767/work\n",
            "atomicwrites==1.4.0\n",
            "attrs @ file:///home/conda/feedstock_root/build_artifacts/attrs_1683424013410/work\n",
            "autopep8 @ file:///opt/conda/conda-bld/autopep8_1650463822033/work\n",
            "Babel==2.11.0\n",
            "backcall @ file:///home/ktietz/src/ci/backcall_1611930011877/work\n",
            "backoff==1.10.0\n",
            "bcrypt @ file:///C:/Windows/Temp/abs_36kl66t_aw/croots/recipe/bcrypt_1659554334050/work\n",
            "beautifulsoup4 @ file:///C:/b/abs_0agyz1wsr4/croot/beautifulsoup4-split_1681493048687/work\n",
            "binaryornot @ file:///tmp/build/80754af9/binaryornot_1617751525010/work\n",
            "black @ file:///C:/b/abs_620t6ndje8/croot/black_1680737261963/work\n",
            "bleach @ file:///opt/conda/conda-bld/bleach_1641577558959/work\n",
            "blinker @ file:///home/conda/feedstock_root/build_artifacts/blinker_1681349778161/work\n",
            "Bottleneck @ file:///C:/Windows/Temp/abs_3198ca53-903d-42fd-87b4-03e6d03a8381yfwsuve8/croots/recipe/bottleneck_1657175565403/work\n",
            "brotlipy==0.7.0\n",
            "cachetools==5.3.0\n",
            "certifi @ file:///C:/b/abs_4a0polqwty/croot/certifi_1683875377622/work/certifi\n",
            "cffi @ file:///C:/b/abs_49n3v2hyhr/croot/cffi_1670423218144/work\n",
            "cftime @ file:///C:/ci/cftime_1638358653367/work\n",
            "chardet==5.1.0\n",
            "charset-normalizer @ file:///home/conda/feedstock_root/build_artifacts/charset-normalizer_1661170624537/work\n",
            "click @ file:///D:/bld/click_1666798499870/work\n",
            "cloudpickle @ file:///C:/b/abs_3796yxesic/croot/cloudpickle_1683040098851/work\n",
            "colorama @ file:///C:/b/abs_a9ozq0l032/croot/colorama_1672387194846/work\n",
            "comm @ file:///C:/b/abs_1419earm7u/croot/comm_1671231131638/work\n",
            "contourpy @ file:///C:/b/abs_d5rpy288vc/croots/recipe/contourpy_1663827418189/work\n",
            "cookiecutter @ file:///opt/conda/conda-bld/cookiecutter_1649151442564/work\n",
            "cryptography @ file:///C:/b/abs_8ecplyc3n2/croot/cryptography_1677533105000/work\n",
            "cycler @ file:///tmp/build/80754af9/cycler_1637851556182/work\n",
            "debugpy @ file:///C:/ci/debugpy_1637091961445/work\n",
            "decorator @ file:///opt/conda/conda-bld/decorator_1643638310831/work\n",
            "defusedxml @ file:///tmp/build/80754af9/defusedxml_1615228127516/work\n",
            "diff-match-patch @ file:///Users/ktietz/demo/mc3/conda-bld/diff-match-patch_1630511840874/work\n",
            "dill @ file:///C:/b/abs_42h_07z1yj/croot/dill_1667919550096/work\n",
            "docstring-to-markdown @ file:///C:/b/abs_cf10j8nr4q/croot/docstring-to-markdown_1673447652942/work\n",
            "docutils @ file:///C:/Windows/TEMP/abs_24e5e278-4d1c-47eb-97b9-f761d871f482dy2vg450/croots/recipe/docutils_1657175444608/work\n",
            "entrypoints @ file:///C:/ci/entrypoints_1649926621128/work\n",
            "et-xmlfile==1.1.0\n",
            "executing @ file:///opt/conda/conda-bld/executing_1646925071911/work\n",
            "fastjsonschema @ file:///C:/Users/BUILDE~1/AppData/Local/Temp/abs_ebruxzvd08/croots/recipe/python-fastjsonschema_1661376484940/work\n",
            "filelock==3.12.2\n",
            "flake8 @ file:///C:/b/abs_9f6_n1jlpc/croot/flake8_1674581816810/work\n",
            "flatbuffers @ file:///home/ktietz/cip/python-flatbuffers_1634039120618/work\n",
            "fonttools==4.25.0\n",
            "fqdn==1.5.1\n",
            "frozenlist @ file:///C:/b/abs_2bb5uzghsi/croot/frozenlist_1670004511812/work\n",
            "future==0.18.3\n",
            "gast @ file:///Users/ktietz/demo/mc3/conda-bld/gast_1628588903283/work\n",
            "gdown==4.7.1\n",
            "gitdb==4.0.10\n",
            "GitPython==3.1.31\n",
            "google-auth @ file:///opt/conda/conda-bld/google-auth_1646735974934/work\n",
            "google-auth-oauthlib @ file:///tmp/build/80754af9/google-auth-oauthlib_1617120569401/work\n",
            "google-pasta @ file:///Users/ktietz/demo/mc3/conda-bld/google-pasta_1630577991354/work\n",
            "grpcio @ file:///C:/b/abs_ccut8qek12/croot/grpc-suite_1681912611694/work\n",
            "h5py @ file:///C:/ci/h5py_1659089875384/work\n",
            "idna @ file:///C:/b/abs_bdhbebrioa/croot/idna_1666125572046/work\n",
            "imageio==2.31.1\n",
            "imagesize @ file:///C:/Windows/TEMP/abs_3cecd249-3fc4-4bfc-b80b-bb227b0d701en12vqzot/croots/recipe/imagesize_1657179501304/work\n",
            "imgaug==0.4.0\n",
            "importlib-metadata @ file:///home/conda/feedstock_root/build_artifacts/importlib-metadata_1672612343532/work\n",
            "importlib-resources @ file:///tmp/build/80754af9/importlib_resources_1625135880749/work\n",
            "inflection==0.5.1\n",
            "intervaltree @ file:///Users/ktietz/demo/mc3/conda-bld/intervaltree_1630511889664/work\n",
            "ipykernel @ file:///C:/b/abs_b4f07tbsyd/croot/ipykernel_1672767104060/work\n",
            "ipython @ file:///C:/b/abs_d1yx5tjhli/croot/ipython_1680701887259/work\n",
            "ipython-genutils @ file:///tmp/build/80754af9/ipython_genutils_1606773439826/work\n",
            "isoduration==20.11.0\n",
            "isort @ file:///tmp/build/80754af9/isort_1628603791788/work\n",
            "jaraco.classes @ file:///tmp/build/80754af9/jaraco.classes_1620983179379/work\n",
            "jedi @ file:///C:/ci/jedi_1644315428289/work\n",
            "jellyfish @ file:///C:/ci/jellyfish_1647962783748/work\n",
            "Jinja2 @ file:///C:/b/abs_7cdis66kl9/croot/jinja2_1666908141852/work\n",
            "jinja2-time @ file:///opt/conda/conda-bld/jinja2-time_1649251842261/work\n",
            "joblib @ file:///C:/b/abs_e60_bwl1v6/croot/joblib_1666298845728/work\n",
            "json5 @ file:///tmp/build/80754af9/json5_1624432770122/work\n",
            "jsonpointer==2.3\n",
            "jsonschema @ file:///C:/b/abs_6ccs97j_l8/croot/jsonschema_1676558690963/work\n",
            "jupyter-events @ file:///C:/b/abs_4cak_28ewz/croot/jupyter_events_1684268050893/work\n",
            "jupyter-ydoc @ file:///C:/b/abs_e7m6nh5lao/croot/jupyter_ydoc_1683747253535/work\n",
            "jupyter_client @ file:///C:/b/abs_059idvdagk/croot/jupyter_client_1680171872444/work\n",
            "jupyter_core==5.1.0\n",
            "jupyter_server @ file:///C:/b/abs_3eh8sm27tx/croot/jupyter_server_1686059851383/work\n",
            "jupyter_server_fileid @ file:///C:/b/abs_f1yjnmiq_6/croot/jupyter_server_fileid_1684273602142/work\n",
            "jupyter_server_terminals==0.4.3\n",
            "jupyter_server_ydoc @ file:///C:/b/abs_8ai39bligw/croot/jupyter_server_ydoc_1686767445888/work\n",
            "jupyterlab==3.5.2\n",
            "jupyterlab-pygments @ file:///tmp/build/80754af9/jupyterlab_pygments_1601490720602/work\n",
            "jupyterlab_server==2.16.5\n",
            "keras @ file:///C:/Users/builder/adipietro/mc3/tf210/conda-bld/keras_1669760570649/work/keras-2.10.0-py2.py3-none-any.whl\n",
            "Keras-Preprocessing @ file:///tmp/build/80754af9/keras-preprocessing_1612283640596/work\n",
            "keyring @ file:///C:/b/abs_dbjc7g0dh2/croot/keyring_1678999228878/work\n",
            "kiwisolver @ file:///C:/b/abs_88mdhvtahm/croot/kiwisolver_1672387921783/work\n",
            "lazy-object-proxy @ file:///C:/ci/lazy-object-proxy_1616529288960/work\n",
            "lazy_loader==0.2\n",
            "lxml @ file:///C:/b/abs_c2bg6ck92l/croot/lxml_1679646459966/work\n",
            "Markdown @ file:///C:/b/abs_98lv_ucina/croot/markdown_1671541919225/work\n",
            "markdown-it-py==2.2.0\n",
            "MarkupSafe==2.1.2\n",
            "matplotlib @ file:///C:/b/abs_49b2acwxd4/croot/matplotlib-suite_1679593486357/work\n",
            "matplotlib-inline @ file:///C:/ci/matplotlib-inline_1661915841596/work\n",
            "mccabe @ file:///opt/conda/conda-bld/mccabe_1644221741721/work\n",
            "mdurl==0.1.2\n",
            "mistune @ file:///C:/ci/mistune_1607359457024/work\n",
            "mkl-fft==1.3.6\n",
            "mkl-random @ file:///C:/Users/dev-admin/mkl/mkl_random_1682977971003/work\n",
            "mkl-service==2.4.0\n",
            "more-itertools @ file:///tmp/build/80754af9/more-itertools_1637733554872/work\n",
            "multidict @ file:///C:/b/abs_6cx_8w3cv2/croot/multidict_1665674238352/work\n",
            "munkres==1.1.4\n",
            "mypy-extensions==0.4.3\n",
            "nbclassic @ file:///C:/b/abs_c8_rs7b3zw/croot/nbclassic_1681756186106/work\n",
            "nbclient @ file:///C:/ci/nbclient_1650290387259/work\n",
            "nbconvert @ file:///C:/b/abs_4av3q4okro/croot/nbconvert_1668450658054/work\n",
            "nbformat @ file:///C:/b/abs_85_3g7dkt4/croot/nbformat_1670352343720/work\n",
            "nest-asyncio @ file:///C:/b/abs_3a_4jsjlqu/croot/nest-asyncio_1672387322800/work\n",
            "netCDF4 @ file:///C:/b/abs_e8sfulljvr/croot/netcdf4_1673455470770/work\n",
            "networkx==3.1\n",
            "notebook @ file:///C:/b/abs_49d8mc_lpe/croot/notebook_1681756182078/work\n",
            "notebook_shim @ file:///C:/b/abs_ebfczttg6x/croot/notebook-shim_1668160590914/work\n",
            "numexpr @ file:///C:/b/abs_afm0oewmmt/croot/numexpr_1683221839116/work\n",
            "numpy==1.24.3\n",
            "numpydoc @ file:///C:/b/abs_cfdd4zxbga/croot/numpydoc_1668085912100/work\n",
            "oauthlib @ file:///C:/b/abs_44riqpe5gg/croot/oauthlib_1679489644705/work\n",
            "opencv-python==4.7.0.72\n",
            "openpyxl==3.0.10\n",
            "opt-einsum @ file:///tmp/build/80754af9/opt_einsum_1621500238896/work\n",
            "packaging @ file:///home/conda/feedstock_root/build_artifacts/packaging_1681337016113/work\n",
            "pandas==2.0.1\n",
            "pandocfilters @ file:///opt/conda/conda-bld/pandocfilters_1643405455980/work\n",
            "paramiko @ file:///opt/conda/conda-bld/paramiko_1640109032755/work\n",
            "parso @ file:///opt/conda/conda-bld/parso_1641458642106/work\n",
            "pathspec @ file:///C:/b/abs_9cu5_2yb3i/croot/pathspec_1674681579249/work\n",
            "patsy==0.5.3\n",
            "pexpect @ file:///tmp/build/80754af9/pexpect_1605563209008/work\n",
            "pickle-mixin==1.0.2\n",
            "pickleshare @ file:///tmp/build/80754af9/pickleshare_1606932040724/work\n",
            "Pillow==9.5.0\n",
            "platformdirs==2.6.0\n",
            "plotly==5.11.0\n",
            "pluggy @ file:///C:/ci/pluggy_1648024580010/work\n",
            "ply==3.11\n",
            "pooch @ file:///tmp/build/80754af9/pooch_1623324770023/work\n",
            "poyo @ file:///tmp/build/80754af9/poyo_1617751526755/work\n",
            "prometheus-client @ file:///C:/Windows/TEMP/abs_ab9nx8qb08/croots/recipe/prometheus_client_1659455104602/work\n",
            "prompt-toolkit @ file:///C:/b/abs_6coz5_9f2s/croot/prompt-toolkit_1672387908312/work\n",
            "protobuf @ file:///D:/bld/protobuf_1681050122068/work/python\n",
            "psutil @ file:///C:/Windows/Temp/abs_b2c2fd7f-9fd5-4756-95ea-8aed74d0039flsd9qufz/croots/recipe/psutil_1656431277748/work\n",
            "ptyprocess @ file:///tmp/build/80754af9/ptyprocess_1609355006118/work/dist/ptyprocess-0.7.0-py2.py3-none-any.whl\n",
            "pure-eval @ file:///opt/conda/conda-bld/pure_eval_1646925070566/work\n",
            "pyarrow==12.0.0\n",
            "pyasn1 @ file:///Users/ktietz/demo/mc3/conda-bld/pyasn1_1629708007385/work\n",
            "pyasn1-modules==0.2.8\n",
            "pybase64 @ file:///D:/bld/pybase64_1667091061875/work\n",
            "pycodestyle @ file:///C:/b/abs_d77nxvklcq/croot/pycodestyle_1674267231034/work\n",
            "pycparser @ file:///tmp/build/80754af9/pycparser_1636541352034/work\n",
            "pydeck==0.8.1b0\n",
            "pydocstyle @ file:///C:/b/abs_6dz687_5i3/croot/pydocstyle_1675221688656/work\n",
            "pyflakes @ file:///C:/b/abs_6dve6e13zh/croot/pyflakes_1674165143327/work\n",
            "Pygments @ file:///C:/b/abs_fay9dpq4n_/croot/pygments_1684279990574/work\n",
            "PyJWT @ file:///C:/ci/pyjwt_1657511236979/work\n",
            "pylint @ file:///C:/b/abs_83sq99jc8i/croot/pylint_1676919922167/work\n",
            "pylint-venv @ file:///C:/b/abs_bf0lepsbij/croot/pylint-venv_1673990138593/work\n",
            "pyls-spyder==0.4.0\n",
            "Pympler==1.0.1\n",
            "PyNaCl @ file:///C:/Windows/Temp/abs_d5c3ajcm87/croots/recipe/pynacl_1659620667490/work\n",
            "pyngrok==4.1.1\n",
            "pyOpenSSL @ file:///C:/b/abs_552w85x1jz/croot/pyopenssl_1677607703691/work\n",
            "pyparsing @ file:///C:/Users/BUILDE~1/AppData/Local/Temp/abs_7f_7lba6rl/croots/recipe/pyparsing_1661452540662/work\n",
            "PyQt5==5.15.7\n",
            "PyQt5-sip @ file:///C:/Windows/Temp/abs_d7gmd2jg8i/croots/recipe/pyqt-split_1659273064801/work/pyqt_sip\n",
            "PyQtWebEngine==5.15.4\n",
            "pyrsistent @ file:///D:/bld/pyrsistent_1672681644205/work\n",
            "PySocks @ file:///C:/ci/pysocks_1605307512533/work\n",
            "python-dateutil @ file:///tmp/build/80754af9/python-dateutil_1626374649649/work\n",
            "python-json-logger==2.0.4\n",
            "python-lsp-black @ file:///C:/Users/BUILDE~1/AppData/Local/Temp/abs_dddk9lhpp1/croots/recipe/python-lsp-black_1661852041405/work\n",
            "python-lsp-jsonrpc==1.0.0\n",
            "python-lsp-server @ file:///C:/b/abs_catecj7fv1/croot/python-lsp-server_1681930405912/work\n",
            "python-slugify @ file:///tmp/build/80754af9/python-slugify_1620405669636/work\n",
            "pytoolconfig @ file:///C:/b/abs_18sf9z_iwl/croot/pytoolconfig_1676315065270/work\n",
            "pytz @ file:///home/conda/feedstock_root/build_artifacts/pytz_1680088766131/work\n",
            "pytz-deprecation-shim==0.1.0.post0\n",
            "PyWavelets==1.4.1\n",
            "pywin32==305.1\n",
            "pywin32-ctypes @ file:///C:/ci/pywin32-ctypes_1607553594546/work\n",
            "pywinpty @ file:///C:/b/abs_73vshmevwq/croot/pywinpty_1677609966356/work/target/wheels/pywinpty-2.0.10-cp39-none-win_amd64.whl\n",
            "PyYAML==6.0\n",
            "pyzmq @ file:///C:/b/abs_655zk4a3s8/croot/pyzmq_1686601465034/work\n",
            "QDarkStyle @ file:///tmp/build/80754af9/qdarkstyle_1617386714626/work\n",
            "qstylizer @ file:///C:/b/abs_ef86cgllby/croot/qstylizer_1674008538857/work/dist/qstylizer-0.2.2-py2.py3-none-any.whl\n",
            "QtAwesome @ file:///C:/b/abs_c5evilj98g/croot/qtawesome_1674008690220/work\n",
            "qtconsole @ file:///C:/b/abs_eb4u9jg07y/croot/qtconsole_1681402843494/work\n",
            "QtPy @ file:///C:/ci/qtpy_1662015096047/work\n",
            "requests==2.30.0\n",
            "requests-oauthlib==1.3.0\n",
            "rfc3339-validator @ file:///C:/b/abs_ddfmseb_vm/croot/rfc3339-validator_1683077054906/work\n",
            "rfc3986-validator @ file:///C:/b/abs_6e9azihr8o/croot/rfc3986-validator_1683059049737/work\n",
            "rich==13.3.5\n",
            "rope @ file:///C:/b/abs_55g_tm_6ff/croot/rope_1676675029164/work\n",
            "rsa @ file:///tmp/build/80754af9/rsa_1614366226499/work\n",
            "Rtree @ file:///C:/b/abs_e116ltblik/croot/rtree_1675157871717/work\n",
            "scikit-image==0.21.0\n",
            "scikit-learn @ file:///C:/b/abs_61gq_04cwx/croot/scikit-learn_1673957229218/work\n",
            "scipy==1.11.0\n",
            "seaborn @ file:///C:/b/abs_68ltdkoyoo/croot/seaborn_1673479199997/work\n",
            "Send2Trash @ file:///tmp/build/80754af9/send2trash_1632406701022/work\n",
            "shapely==2.0.1\n",
            "sip @ file:///C:/Windows/Temp/abs_b8fxd17m2u/croots/recipe/sip_1659012372737/work\n",
            "six @ file:///tmp/build/80754af9/six_1644875935023/work\n",
            "smmap==5.0.0\n",
            "sniffio @ file:///C:/ci/sniffio_1614030527509/work\n",
            "snowballstemmer @ file:///tmp/build/80754af9/snowballstemmer_1637937080595/work\n",
            "sortedcontainers @ file:///tmp/build/80754af9/sortedcontainers_1623949099177/work\n",
            "soupsieve @ file:///C:/b/abs_a989exj3q6/croot/soupsieve_1680518492466/work\n",
            "Sphinx @ file:///C:/ci/sphinx_1657617205740/work\n",
            "sphinxcontrib-applehelp @ file:///home/ktietz/src/ci/sphinxcontrib-applehelp_1611920841464/work\n",
            "sphinxcontrib-devhelp @ file:///home/ktietz/src/ci/sphinxcontrib-devhelp_1611920923094/work\n",
            "sphinxcontrib-htmlhelp @ file:///tmp/build/80754af9/sphinxcontrib-htmlhelp_1623945626792/work\n",
            "sphinxcontrib-jsmath @ file:///home/ktietz/src/ci/sphinxcontrib-jsmath_1611920942228/work\n",
            "sphinxcontrib-qthelp @ file:///home/ktietz/src/ci/sphinxcontrib-qthelp_1611921055322/work\n",
            "sphinxcontrib-serializinghtml @ file:///tmp/build/80754af9/sphinxcontrib-serializinghtml_1624451540180/work\n",
            "spyder @ file:///C:/b/abs_e99kl7d8t0/croot/spyder_1681934304813/work\n",
            "spyder-kernels @ file:///C:/b/abs_862e4aayi8/croot/spyder-kernels_1681307297029/work\n",
            "stack-data @ file:///opt/conda/conda-bld/stack_data_1646927590127/work\n",
            "statsmodels @ file:///C:/b/abs_bdqo3zaryj/croot/statsmodels_1676646249859/work\n",
            "streamlit==1.22.0\n",
            "tenacity @ file:///C:/b/abs_ddkoa9nju6/croot/tenacity_1682972298929/work\n",
            "tensorboard @ file:///C:/Users/builder/adipietro/mc3/tf210/conda-bld/tensorboard_1669760968711/work/tensorboard-2.10.0-py3-none-any.whl\n",
            "tensorboard-data-server @ file:///C:/b/abs_2fhvpo862s/croot/tensorboard-data-server_1670853600144/work/tensorboard_data_server-0.6.1-py3-none-any.whl\n",
            "tensorboard-plugin-wit @ file:///C:/tf/b/tensorboard-plugin-wit_1660162132996/work/tensorboard_plugin_wit-1.8.1-py3-none-any.whl\n",
            "tensorflow==2.10.0\n",
            "tensorflow-estimator @ file:///C:/Users/builder/adipietro/mc3/tf210/conda-bld/tensorflow-estimator_1669761460695/work/tensorflow_estimator-2.10.0-py2.py3-none-any.whl\n",
            "termcolor @ file:///C:/b/abs_16qe7jhw7n/croot/termcolor_1668084642458/work\n",
            "terminado @ file:///C:/b/abs_25nakickad/croot/terminado_1671751845491/work\n",
            "text-unidecode @ file:///Users/ktietz/demo/mc3/conda-bld/text-unidecode_1629401354553/work\n",
            "textdistance @ file:///tmp/build/80754af9/textdistance_1612461398012/work\n",
            "threadpoolctl @ file:///Users/ktietz/demo/mc3/conda-bld/threadpoolctl_1629802263681/work\n",
            "three-merge @ file:///tmp/build/80754af9/three-merge_1607553261110/work\n",
            "tifffile==2023.4.12\n",
            "tinycss2 @ file:///C:/b/abs_52w5vfuaax/croot/tinycss2_1668168823131/work\n",
            "toml @ file:///tmp/build/80754af9/toml_1616166611790/work\n",
            "tomli @ file:///C:/Windows/TEMP/abs_ac109f85-a7b3-4b4d-bcfd-52622eceddf0hy332ojo/croots/recipe/tomli_1657175513137/work\n",
            "tomlkit @ file:///C:/Windows/TEMP/abs_3296qo9v6b/croots/recipe/tomlkit_1658946894808/work\n",
            "toolz==0.12.0\n",
            "tornado==6.3.1\n",
            "tqdm==4.65.0\n",
            "traitlets @ file:///C:/b/abs_e5m_xjjl94/croot/traitlets_1671143896266/work\n",
            "typing_extensions @ file:///C:/b/abs_5em9ekwz24/croot/typing_extensions_1686602003259/work\n",
            "tzdata @ file:///home/conda/feedstock_root/build_artifacts/python-tzdata_1680081134351/work\n",
            "tzlocal==4.3\n",
            "ujson @ file:///C:/ci/ujson_1657525944442/work\n",
            "Unidecode @ file:///tmp/build/80754af9/unidecode_1614712377438/work\n",
            "urllib3==2.0.2\n",
            "validators==0.20.0\n",
            "watchdog @ file:///D:/bld/watchdog_1679333045244/work\n",
            "wcwidth @ file:///Users/ktietz/demo/mc3/conda-bld/wcwidth_1629357192024/work\n",
            "webencodings==0.5.1\n",
            "websocket-client @ file:///C:/ci/websocket-client_1614804375980/work\n",
            "Werkzeug @ file:///C:/b/abs_8578rs2ra_/croot/werkzeug_1679489759009/work\n",
            "whatthepatch @ file:///C:/Users/BUILDE~1/AppData/Local/Temp/abs_e7bihs8grh/croots/recipe/whatthepatch_1661796085215/work\n",
            "win-inet-pton @ file:///C:/ci/win_inet_pton_1605306162074/work\n",
            "wrapt @ file:///C:/Windows/Temp/abs_7c3dd407-1390-477a-b542-fd15df6a24085_diwiza/croots/recipe/wrapt_1657814452175/work\n",
            "xarray @ file:///C:/b/abs_2fi_umrauo/croot/xarray_1668776806973/work\n",
            "y-py @ file:///C:/b/abs_b7f5go6r0j/croot/y-py_1683662173571/work\n",
            "yapf @ file:///tmp/build/80754af9/yapf_1615749224965/work\n",
            "yarl @ file:///C:/Users/BUILDE~1/AppData/Local/Temp/abs_e5nlunspj6/croots/recipe/yarl_1661437086516/work\n",
            "ypy-websocket @ file:///C:/b/abs_4e65ywlnv8/croot/ypy-websocket_1684172103529/work\n",
            "zipp @ file:///home/conda/feedstock_root/build_artifacts/zipp_1677313463193/work\n"
          ]
        }
      ],
      "source": [
        "!pip freeze"
      ]
    },
    {
      "attachments": {},
      "cell_type": "markdown",
      "metadata": {
        "id": "vWmc_s2ezvU0"
      },
      "source": [
        "# **PROJET NEBULA - Demo Streamlit**"
      ]
    },
    {
      "attachments": {},
      "cell_type": "markdown",
      "metadata": {
        "id": "xZMtoqVt8hzh"
      },
      "source": [
        "La démo Streamlit est accessible en ligne, via le lien indiqué dans la description du repo Github. Néanmoins, pour ceux qui le souhaitent ou dans le cas où la démo serait inaccessible, il est possible de la lancer via ce notebook depuis Google Colab.\n",
        "\n",
        "Le principe est d'initier un tunnel via le service Ngrok afin de rendre publique l'adresse du serveur instancié par streamlit. Pour éviter d'atteindre les quotas de soumission auprès de Ngrok, il faut au préalable s'inscrire sur le site https://ngrok.com/ afin d'y récupérer un token. Ce dernier sera nécessaire plus loin dans ce notebook.\n"
      ]
    },
    {
      "attachments": {},
      "cell_type": "markdown",
      "metadata": {
        "id": "Doh1Nrjpz9ua"
      },
      "source": [
        "## **1. Installations**"
      ]
    },
    {
      "attachments": {},
      "cell_type": "markdown",
      "metadata": {
        "id": "1aViQX800ht7"
      },
      "source": [
        "### 1.1. Installation de Streamlit"
      ]
    },
    {
      "attachments": {},
      "cell_type": "markdown",
      "metadata": {
        "id": "RBr5L5gnvCLY"
      },
      "source": [
        "Il faut d'abord installer Streamlit en exécutant le code ci-dessous. Il est possible qu'une erreur de version apparaisse, sans conséquence pour la bonne exécution de l'application.<br>\n",
        "Apres avoir exécuté la cellule ci-dessous il faut surtout penser à redémarrer l'environnement d'exécution via le menu !\n"
      ]
    },
    {
      "cell_type": "code",
      "execution_count": 1,
      "metadata": {
        "colab": {
          "base_uri": "https://localhost:8080/"
        },
        "id": "4pX82dyHr8XL",
        "outputId": "97dbd252-da51-4c79-aa93-bd6280e9bba9"
      },
      "outputs": [],
      "source": [
        "!pip install -q streamlit"
      ]
    },
    {
      "attachments": {},
      "cell_type": "markdown",
      "metadata": {
        "id": "uzvl_5Cv8HeX"
      },
      "source": [
        "## **<font color='red'>Ici on pense a redémarrer l'environnement.</font>**"
      ]
    },
    {
      "attachments": {},
      "cell_type": "markdown",
      "metadata": {
        "id": "EFoluk860syY"
      },
      "source": [
        "### 1.2. Installation de NGRok"
      ]
    },
    {
      "attachments": {},
      "cell_type": "markdown",
      "metadata": {
        "id": "G7RXzfxe0xRe"
      },
      "source": [
        "NGrok va nous permettre de créer un tunnel nous permettant de visualiser l'application dans un navigateur internet. Il faut exécuter les cellules suivantes pour télédécharger les sources du noyau sous Colab."
      ]
    },
    {
      "cell_type": "code",
      "execution_count": 2,
      "metadata": {
        "colab": {
          "base_uri": "https://localhost:8080/"
        },
        "id": "0R8CWKpKD3HX",
        "outputId": "e2531706-373c-478c-ebe0-77eb230dcbf1"
      },
      "outputs": [
        {
          "name": "stdout",
          "output_type": "stream",
          "text": [
            "Collecting pyngrok==4.1.1\n",
            "  Downloading pyngrok-4.1.1.tar.gz (18 kB)\n",
            "  Preparing metadata (setup.py): started\n",
            "  Preparing metadata (setup.py): finished with status 'done'\n",
            "Collecting future (from pyngrok==4.1.1)\n",
            "  Using cached future-0.18.3.tar.gz (840 kB)\n",
            "  Preparing metadata (setup.py): started\n",
            "  Preparing metadata (setup.py): finished with status 'done'\n",
            "Requirement already satisfied: PyYAML in g:\\-\\envgeo\\lib\\site-packages (from pyngrok==4.1.1) (6.0)\n",
            "Building wheels for collected packages: pyngrok, future\n",
            "  Building wheel for pyngrok (setup.py): started\n",
            "  Building wheel for pyngrok (setup.py): finished with status 'done'\n",
            "  Created wheel for pyngrok: filename=pyngrok-4.1.1-py3-none-any.whl size=15996 sha256=923da870189bb47eea86ad9ad4affc55cf8dd3a61278d1d2eee2dc1b44ff9cb3\n",
            "  Stored in directory: c:\\users\\administrator\\appdata\\local\\pip\\cache\\wheels\\89\\2d\\c2\\abe6bcfde6bce368c00ecd73310c11edb672c3eda09a090cfa\n",
            "  Building wheel for future (setup.py): started\n",
            "  Building wheel for future (setup.py): finished with status 'done'\n",
            "  Created wheel for future: filename=future-0.18.3-py3-none-any.whl size=492055 sha256=0b3b65536d32beb4a9a589926852a3aed594fc30aeabeb0ca6c2b2a562bca398\n",
            "  Stored in directory: c:\\users\\administrator\\appdata\\local\\pip\\cache\\wheels\\bf\\5d\\6a\\2e53874f7ec4e2bede522385439531fafec8fafe005b5c3d1b\n",
            "Successfully built pyngrok future\n",
            "Installing collected packages: future, pyngrok\n",
            "Successfully installed future-0.18.3 pyngrok-4.1.1\n"
          ]
        }
      ],
      "source": [
        "!pip install pyngrok==4.1.1"
      ]
    },
    {
      "cell_type": "code",
      "execution_count": 3,
      "metadata": {
        "colab": {
          "base_uri": "https://localhost:8080/"
        },
        "id": "VSPUMEHYwqng",
        "outputId": "47d452a3-bc9c-4752-f5cd-4f38040c0510"
      },
      "outputs": [
        {
          "name": "stderr",
          "output_type": "stream",
          "text": [
            "'wget' is not recognized as an internal or external command,\n",
            "operable program or batch file.\n"
          ]
        }
      ],
      "source": [
        "!wget https://bin.equinox.io/c/4VmDzA7iaHb/ngrok-stable-linux-amd64.zip"
      ]
    },
    {
      "cell_type": "code",
      "execution_count": 4,
      "metadata": {
        "colab": {
          "base_uri": "https://localhost:8080/"
        },
        "id": "6679q_6fwsJH",
        "outputId": "33937052-542b-46a8-d7a3-502ac8e5d352"
      },
      "outputs": [
        {
          "name": "stderr",
          "output_type": "stream",
          "text": [
            "'unzip' is not recognized as an internal or external command,\n",
            "operable program or batch file.\n"
          ]
        }
      ],
      "source": [
        "!unzip ngrok-stable-linux-amd64.zip"
      ]
    },
    {
      "attachments": {},
      "cell_type": "markdown",
      "metadata": {
        "id": "BZr6fBuDAPb-"
      },
      "source": [
        "### 1.3. Chargement des packages et de l'application streamlit"
      ]
    },
    {
      "attachments": {},
      "cell_type": "markdown",
      "metadata": {
        "id": "86JqdYaZ94Vu"
      },
      "source": [
        "L'application Streamlit est déjà déployée dans le repository Github associé au projet. Les instructions ci-dessous vont télédécharger les sources de l'application d'une part, et des packages nécessaires d'autre part."
      ]
    },
    {
      "cell_type": "code",
      "execution_count": 5,
      "metadata": {
        "colab": {
          "base_uri": "https://localhost:8080/"
        },
        "id": "PI2yZH-gASpp",
        "outputId": "0a65b527-fada-4a0a-d6a3-abe7e5ef47ba"
      },
      "outputs": [
        {
          "name": "stderr",
          "output_type": "stream",
          "text": [
            "A subdirectory or file packages already exists.\n",
            "Error occurred while processing: packages.\n",
            "A subdirectory or file -p already exists.\n",
            "Error occurred while processing: -p.\n",
            "A subdirectory or file streamlit already exists.\n",
            "Error occurred while processing: streamlit.\n",
            "A subdirectory or file -p already exists.\n",
            "Error occurred while processing: -p.\n",
            "The system cannot find the path specified.\n",
            "'cp' is not recognized as an internal or external command,\n",
            "operable program or batch file.\n",
            "'cp' is not recognized as an internal or external command,\n",
            "operable program or batch file.\n",
            "'cp' is not recognized as an internal or external command,\n",
            "operable program or batch file.\n",
            "'rm' is not recognized as an internal or external command,\n",
            "operable program or batch file.\n"
          ]
        }
      ],
      "source": [
        "# Création de répertoires pour stocker le Git, les librairies et checkpoints\n",
        "!mkdir nebulaTemp -p\n",
        "!mkdir packages -p\n",
        "!mkdir streamlit -p\n",
        "\n",
        "# Copie des sources des librairies projet depuis le Github\n",
        "!git clone https://github.com/DataScientest/nebula/ ./nebulaTemp --dissociate > /dev/null\n",
        "\n",
        "# Répartition des différentes ressources dans les répertoires\n",
        "!cp ./nebulaTemp/packages/* ./packages\n",
        "!cp -R ./nebulaTemp/streamlit/* ./streamlit\n",
        "!cp -R ./nebulaTemp/streamlit/.streamlit .       \n",
        "\n",
        "# Suppression de la copie du repository source\n",
        "!rm nebulaTemp -r"
      ]
    },
    {
      "attachments": {},
      "cell_type": "markdown",
      "metadata": {
        "id": "14fstGETAZT9"
      },
      "source": [
        "### 1.4. Installation des dépendances"
      ]
    },
    {
      "attachments": {},
      "cell_type": "markdown",
      "metadata": {
        "id": "t_wTJJC5-T1J"
      },
      "source": [
        "Quelques librairies sont nécessaires au bon fonctionnement de l'application. Nous les installons toutes depuis le fichier de configuration rattaché a l’application.  Il est possible qu'une erreur de version apparaisse, sans conséquence pour la bonne exécution de l'application."
      ]
    },
    {
      "cell_type": "code",
      "execution_count": 6,
      "metadata": {
        "colab": {
          "base_uri": "https://localhost:8080/"
        },
        "id": "_V0R4yqvmiYS",
        "outputId": "1b5c679a-ec5e-47df-8000-8ced092e2d55"
      },
      "outputs": [
        {
          "name": "stderr",
          "output_type": "stream",
          "text": [
            "The system cannot find the path specified.\n"
          ]
        }
      ],
      "source": [
        "!pip install -r streamlit/requirements.txt  > /dev/null"
      ]
    },
    {
      "attachments": {},
      "cell_type": "markdown",
      "metadata": {
        "id": "encqGJ4u0FYG"
      },
      "source": [
        "## **2. Lancement de l'application**"
      ]
    },
    {
      "attachments": {},
      "cell_type": "markdown",
      "metadata": {
        "id": "JExKU0Gvn72U"
      },
      "source": [
        "Les installations étant terminées, l'application peut être lancée. Nous allons pour cela initier un tunnel ngrok.\n",
        "\n",
        "Au préalable, il convient de générer un fichier de configuration comportant un token de connexion. Rendez-vous sur le site ngrok.com, inscrivez-vous si ce n'est déjà fait et récupérez votre token (présent sur la page de votre profil). Remplacer ensuite la ligne ci-dessous par votre propre token avant de l'exécuter.\n"
      ]
    },
    {
      "cell_type": "code",
      "execution_count": 7,
      "metadata": {
        "colab": {
          "base_uri": "https://localhost:8080/"
        },
        "id": "vnkvhNBp9jf1",
        "outputId": "2f783bde-854f-4a7c-f655-bc42caef1a57"
      },
      "outputs": [
        {
          "name": "stdout",
          "output_type": "stream",
          "text": [
            "Downloading ngrok ...\n",
            "Downloading ngrok: 0%\n",
            "Downloading ngrok: 1%\n",
            "Downloading ngrok: 2%\n",
            "Downloading ngrok: 3%\n",
            "Downloading ngrok: 4%\n",
            "Downloading ngrok: 5%\n",
            "Downloading ngrok: 6%\n",
            "Downloading ngrok: 7%\n",
            "Downloading ngrok: 8%\n",
            "Downloading ngrok: 9%\n",
            "Downloading ngrok: 10%\n",
            "Downloading ngrok: 11%\n",
            "Downloading ngrok: 12%\n",
            "Downloading ngrok: 13%\n",
            "Downloading ngrok: 14%\n",
            "Downloading ngrok: 15%\n",
            "Downloading ngrok: 16%\n",
            "Downloading ngrok: 17%\n",
            "Downloading ngrok: 18%\n",
            "Downloading ngrok: 19%\n",
            "Downloading ngrok: 20%\n",
            "Downloading ngrok: 21%\n",
            "Downloading ngrok: 22%\n",
            "Downloading ngrok: 23%\n",
            "Downloading ngrok: 24%\n",
            "Downloading ngrok: 25%\n",
            "Downloading ngrok: 26%\n",
            "Downloading ngrok: 27%\n",
            "Downloading ngrok: 28%\n",
            "Downloading ngrok: 29%\n",
            "Downloading ngrok: 30%\n",
            "Downloading ngrok: 31%\n",
            "Downloading ngrok: 32%\n",
            "Downloading ngrok: 33%\n",
            "Downloading ngrok: 34%\n",
            "Downloading ngrok: 35%\n",
            "Downloading ngrok: 36%\n",
            "Downloading ngrok: 37%\n",
            "Downloading ngrok: 38%\n",
            "Downloading ngrok: 39%\n",
            "Downloading ngrok: 40%\n",
            "Downloading ngrok: 41%\n",
            "Downloading ngrok: 42%\n",
            "Downloading ngrok: 43%\n",
            "Downloading ngrok: 44%\n",
            "Downloading ngrok: 45%\n",
            "Downloading ngrok: 46%\n",
            "Downloading ngrok: 47%\n",
            "Downloading ngrok: 48%\n",
            "Downloading ngrok: 49%\n",
            "Downloading ngrok: 50%\n",
            "Downloading ngrok: 51%\n",
            "Downloading ngrok: 52%\n",
            "Downloading ngrok: 53%\n",
            "Downloading ngrok: 54%\n",
            "Downloading ngrok: 55%\n",
            "Downloading ngrok: 56%\n",
            "Downloading ngrok: 57%\n",
            "Downloading ngrok: 58%\n",
            "Downloading ngrok: 59%\n",
            "Downloading ngrok: 60%\n",
            "Downloading ngrok: 61%\n",
            "Downloading ngrok: 62%\n",
            "Downloading ngrok: 63%\n",
            "Downloading ngrok: 64%\n",
            "Downloading ngrok: 65%\n",
            "Downloading ngrok: 66%\n",
            "Downloading ngrok: 67%\n",
            "Downloading ngrok: 68%\n",
            "Downloading ngrok: 69%\n",
            "Downloading ngrok: 70%\n",
            "Downloading ngrok: 71%\n",
            "Downloading ngrok: 72%\n",
            "Downloading ngrok: 73%\n",
            "Downloading ngrok: 74%\n",
            "Downloading ngrok: 75%\n",
            "Downloading ngrok: 76%\n",
            "Downloading ngrok: 77%\n",
            "Downloading ngrok: 78%\n",
            "Downloading ngrok: 79%\n",
            "Downloading ngrok: 80%\n",
            "Downloading ngrok: 81%\n",
            "Downloading ngrok: 82%\n",
            "Downloading ngrok: 83%\n",
            "Downloading ngrok: 84%\n",
            "Downloading ngrok: 85%\n",
            "Downloading ngrok: 86%\n",
            "Downloading ngrok: 87%\n",
            "Downloading ngrok: 88%\n",
            "Downloading ngrok: 89%\n",
            "Downloading ngrok: 90%\n",
            "Downloading ngrok: 91%\n",
            "Downloading ngrok: 92%\n",
            "Downloading ngrok: 93%\n",
            "Downloading ngrok: 94%\n",
            "Downloading ngrok: 95%\n",
            "Downloading ngrok: 96%\n",
            "Downloading ngrok: 97%\n",
            "Downloading ngrok: 98%\n",
            "Downloading ngrok: 99%\n",
            "Downloading ngrok: 100%\n",
            "                                                                                                    \n",
            "Installing ngrok ... \n",
            "                                                                                                    \n",
            "Authtoken saved to configuration file: C:\\Users\\Administrator/.ngrok2/ngrok.yml\n"
          ]
        }
      ],
      "source": [
        "!ngrok authtoken 1ySB..."
      ]
    },
    {
      "attachments": {},
      "cell_type": "markdown",
      "metadata": {
        "id": "MNHYv8wj1Zzr"
      },
      "source": [
        "Lancez les 3 cellules ci-dessous, un nouveau tunnel sera alors généré. Pour visualiser le rendu de l'application il faut se rendre sur le lien indiqué par la seconde cellule (de type https://xxxxxxx.ngrok.io)"
      ]
    },
    {
      "cell_type": "code",
      "execution_count": 8,
      "metadata": {
        "id": "qGCM2OjvxNit"
      },
      "outputs": [],
      "source": [
        "get_ipython().system_raw('./ngrok http 8501 &')"
      ]
    },
    {
      "cell_type": "code",
      "execution_count": 9,
      "metadata": {
        "colab": {
          "base_uri": "https://localhost:8080/"
        },
        "id": "bxwv00hdxedU",
        "outputId": "b978c194-1481-4cc6-8295-ccdd7ea444a3"
      },
      "outputs": [
        {
          "name": "stderr",
          "output_type": "stream",
          "text": [
            "'python3' is not recognized as an internal or external command,\n",
            "operable program or batch file.\n"
          ]
        }
      ],
      "source": [
        "!curl -s http://localhost:4040/api/tunnels | python3 -c \\\n",
        "    'import sys, json; print(\"URL pour visualiser l application : \" +json.load(sys.stdin)[\"tunnels\"][0][\"public_url\"])'"
      ]
    },
    {
      "cell_type": "code",
      "execution_count": 10,
      "metadata": {
        "colab": {
          "base_uri": "https://localhost:8080/"
        },
        "id": "T1bWdX1Y_n9j",
        "outputId": "8c70d473-e86b-41a2-a6eb-93377d0db419"
      },
      "outputs": [
        {
          "name": "stderr",
          "output_type": "stream",
          "text": [
            "Usage: streamlit run [OPTIONS] TARGET [ARGS]...\n",
            "Try 'streamlit run --help' for help.\n",
            "\n",
            "Error: Invalid value: File does not exist: /content/streamlit/index.py\n"
          ]
        }
      ],
      "source": [
        "!streamlit run /content/streamlit/index.py"
      ]
    }
  ],
  "metadata": {
    "colab": {
      "collapsed_sections": [],
      "name": "demo_streamlitColab.ipynb",
      "provenance": []
    },
    "kernelspec": {
      "display_name": "Python 3",
      "name": "python3"
    },
    "language_info": {
      "codemirror_mode": {
        "name": "ipython",
        "version": 3
      },
      "file_extension": ".py",
      "mimetype": "text/x-python",
      "name": "python",
      "nbconvert_exporter": "python",
      "pygments_lexer": "ipython3",
      "version": "3.9.16"
    }
  },
  "nbformat": 4,
  "nbformat_minor": 0
}
